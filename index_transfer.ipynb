{
 "cells": [
  {
   "cell_type": "markdown",
   "metadata": {},
   "source": [
    "Блокнот создания индекса с векторным поиском на основе идекса option-index\n",
    "\n",
    "Если индекс уже существует, то он не перезапишется, а увеличится"
   ]
  },
  {
   "cell_type": "code",
   "execution_count": null,
   "metadata": {},
   "outputs": [],
   "source": [
    "OLD_INDEX = 'option-index'\n",
    "NEW_INDEX = 'vector-index'"
   ]
  },
  {
   "cell_type": "code",
   "execution_count": 1,
   "metadata": {},
   "outputs": [],
   "source": [
    "import requests\n",
    "\n",
    "from tqdm import tqdm\n",
    "from vector_search import HybridOpenSearch\n",
    "from langchain_community.embeddings import HuggingFaceEmbeddings"
   ]
  },
  {
   "cell_type": "code",
   "execution_count": null,
   "metadata": {},
   "outputs": [],
   "source": [
    "embedder = HuggingFaceEmbeddings(model_name=\"sentence-transformers/paraphrase-multilingual-MiniLM-L12-v2\")\n",
    "vs = HybridOpenSearch(\n",
    "    opensearch_url='http://localhost:9200',\n",
    "    index_name=NEW_INDEX,\n",
    "    embedding_function=embedder,\n",
    "    search={\n",
    "        \"k\": 10,\n",
    "        \"space_type\": \"cosinesimil\",\n",
    "        \"weights\": [0.8, 0.2]\n",
    "    }\n",
    ")"
   ]
  },
  {
   "cell_type": "code",
   "execution_count": null,
   "metadata": {},
   "outputs": [],
   "source": [
    "body = {\n",
    "    'size': 1,\n",
    "    'from': 0,\n",
    "    'query' : {\n",
    "        'match_all' : {}\n",
    "    }\n",
    "}\n",
    "count = requests.get(url=f'http://localhost:9200/{OLD_INDEX}/_count').json()['count']\n",
    "\n",
    "def get_item_from_old_index():\n",
    "    for i in tqdm(range(count)):\n",
    "        body['from'] = i\n",
    "        response = requests.get(\n",
    "            url=f'http://localhost:9200/{OLD_INDEX}/_search',\n",
    "            json=body\n",
    "        )\n",
    "        yield response.json()"
   ]
  },
  {
   "cell_type": "code",
   "execution_count": 7,
   "metadata": {},
   "outputs": [],
   "source": [
    "iterator = get_item_from_old_index()"
   ]
  },
  {
   "cell_type": "code",
   "execution_count": null,
   "metadata": {},
   "outputs": [
    {
     "name": "stderr",
     "output_type": "stream",
     "text": [
      "100%|██████████| 810/810 [03:23<00:00,  3.97it/s]\n"
     ]
    }
   ],
   "source": [
    "while (item:=next(iterator, None)) is not None:\n",
    "    text = item['hits']['hits'][0]['_source']['option_all_text']\n",
    "    new_item = item['hits']['hits'][0]['_source']\n",
    "    vs.add_texts(\n",
    "        texts=[text],\n",
    "        metadatas=[new_item]\n",
    "    )"
   ]
  }
 ],
 "metadata": {
  "kernelspec": {
   "display_name": "lg",
   "language": "python",
   "name": "python3"
  },
  "language_info": {
   "codemirror_mode": {
    "name": "ipython",
    "version": 3
   },
   "file_extension": ".py",
   "mimetype": "text/x-python",
   "name": "python",
   "nbconvert_exporter": "python",
   "pygments_lexer": "ipython3",
   "version": "3.11.10"
  }
 },
 "nbformat": 4,
 "nbformat_minor": 2
}
